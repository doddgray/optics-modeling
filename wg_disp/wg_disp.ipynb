{
 "cells": [
  {
   "cell_type": "markdown",
   "metadata": {},
   "source": [
    "# Preamble"
   ]
  },
  {
   "cell_type": "code",
   "execution_count": 1,
   "metadata": {
    "ExecuteTime": {
     "end_time": "2020-03-01T03:11:01.260779Z",
     "start_time": "2020-03-01T03:11:01.218327Z"
    },
    "code_folding": []
   },
   "outputs": [],
   "source": [
    "# imports copied from Ryan's Note19 code for now to avoid weird unicode issue\n",
    "import meep as mp\n",
    "import meep.materials as mats\n",
    "from meep import mpb\n",
    "import meeputils as mu\n",
    "from wurlitzer import pipes, STDOUT\n",
    "from io import StringIO\n",
    "from scipy.interpolate import RectBivariateSpline\n",
    "\n",
    "# my additions\n",
    "from mpl_toolkits.axes_grid1 import make_axes_locatable"
   ]
  },
  {
   "cell_type": "markdown",
   "metadata": {},
   "source": [
    "# Definitions"
   ]
  },
  {
   "cell_type": "code",
   "execution_count": 2,
   "metadata": {
    "ExecuteTime": {
     "end_time": "2020-03-01T03:11:01.281266Z",
     "start_time": "2020-03-01T03:11:01.262217Z"
    },
    "code_folding": [
     0
    ]
   },
   "outputs": [],
   "source": [
    "# function definitions copied from Ryan's Note19 code for now to avoid weird unicode issue\n",
    "\n",
    "# get_wgparams:  Solves at some wavelength lam with size W, H, h, etc.\n",
    "def get_wgparams(W, H, h, lam, do_func=None, solver=None):\n",
    "    # if not (solver is None):\n",
    "    #     ms = solver\n",
    "    # Set up geometry.\n",
    "    nSi = mu.get_index('Si', lam); ngSi = mu.get_ng('Si', lam)\n",
    "    nSiO2 = mu.get_index('SiO2', lam); ngSiO2 = mu.get_ng('SiO2', lam)\n",
    "    Si = mp.Medium(index=nSi); SiO2 = mp.Medium(index=nSiO2)\n",
    "\n",
    "    ms = mpb.ModeSolver(geometry_lattice=lat,\n",
    "                        geometry=[],\n",
    "                        k_points=k_points,\n",
    "                        resolution=res,\n",
    "                        num_bands=n_bands,\n",
    "                        default_material=SiO2)\n",
    "\n",
    "    geom = [#mp.Block(size=mp.Vector3(mp.inf, mp.inf, -Wgrid/2), center=mp.Vector3(0, 0, -Wgrid/4), material=SiO2),\n",
    "            mp.Block(size=mp.Vector3(mp.inf, W, H), material=Si),\n",
    "            mp.Block(size=mp.Vector3(mp.inf, mp.inf, h), center=mp.Vector3(0, 0, -(H-h)/2), material=Si)]\n",
    "    ms.geometry = geom\n",
    "    ms.default_material = SiO2\n",
    "\n",
    "    blackhole = StringIO()\n",
    "    with pipes(stdout=blackhole, stderr=STDOUT):\n",
    "        ms.init_params(mp.NO_PARITY, False)\n",
    "        eps = np.array(ms.get_epsilon())\n",
    "    isSi = (eps - nSiO2 ** 2) / (nSi ** 2 - nSiO2 ** 2)\n",
    "\n",
    "    out = {}\n",
    "\n",
    "    def get_fieldprops(ms, band):\n",
    "        if (out != {}):\n",
    "            return\n",
    "        e = np.array(ms.get_efield(band))\n",
    "        eps_ei2 = eps.reshape(eps.shape+(1,)) * np.abs(e[:, :, 0, :]**2)\n",
    "        ei_pwr = eps_ei2.sum(axis=(0, 1))\n",
    "        if (ei_pwr[1] > ei_pwr[2]):\n",
    "            print (\"TE mode!\\n\")\n",
    "            # Calculate eps |E|^2.  Then get power in the silicon, and distribution along x.\n",
    "            # Get n_g.  Adjust by material disperision factor (n_{g,mat}/n_{mat}), weighted by eps |E|^2 above.\n",
    "            epwr = eps_ei2.sum(-1) / eps_ei2.sum()\n",
    "            pSi_x = (epwr * isSi).sum(-1)\n",
    "            pSi = pSi_x.sum()\n",
    "            pSi_strip = (pSi_x * (np.abs(np.linspace(-Wgrid/2, Wgrid/2, len(pSi_x))) <= W/2)).sum()\n",
    "            ng_nodisp = 1 / ms.compute_one_group_velocity_component(mp.Vector3(1, 0, 0), band)\n",
    "            ng = ng_nodisp * (pSi * (ngSi / nSi) + (1 - pSi) * (ngSiO2 / nSiO2))\n",
    "\n",
    "            # Output various stuff.\n",
    "            out['band'] = band\n",
    "            out['ng'] = ng\n",
    "            out['pSi'] = pSi\n",
    "            out['pSi_x'] = pSi_x #np.array(pSi_x[len(pSi_x)//2:] * 2)\n",
    "            out['pSi_strip'] = pSi_strip\n",
    "\n",
    "            if (do_func != None):\n",
    "                do_func(out, ms, band)\n",
    "\n",
    "    with pipes(stdout=blackhole, stderr=STDOUT):\n",
    "        k = ms.find_k(mp.NO_PARITY,\n",
    "                      1/lam,\n",
    "                      1, 1,\n",
    "                      mp.Vector3(1, 0, 0),\n",
    "                      1e-4,\n",
    "                      (nSiO2+nSi)/(2*lam), nSiO2/lam, nSi/lam,\n",
    "                      get_fieldprops)\n",
    "\n",
    "    if (out == {}):\n",
    "        print (\"TE mode not found.\")\n",
    "        return out\n",
    "\n",
    "    out['neff'] = k[out['band']-1] / (1 / lam)\n",
    "\n",
    "    print (\"lam = {:.2f}, W = {:.2f}, H = {:.2f}, h = {:.2f}, neff = {:.3f}, ng = {:.3f}, \"\n",
    "           \"pSi = {:.2f}, pStrip = {:.2f}\".format(lam, W, H, h, out['neff'], out['ng'], out['pSi'], out['pSi_strip']))\n",
    "    return out\n",
    "\n",
    "# interp_grid:   Interpolates a coarse grid to a fine one (useful for nice contour plotting)\n",
    "def interp_grid(z, fact=2):\n",
    "    (nx, ny) = z.shape\n",
    "    (x1, y1) = (np.linspace(0, 1, nx), np.linspace(0, 1, ny))\n",
    "    (x2, y2) = (np.linspace(0, 1, (nx - 1) * fact + 1), np.linspace(0, 1, (ny - 1) * fact + 1))\n",
    "    sp = RectBivariateSpline(x1, y1, z, kx=1, ky=1)\n",
    "    return sp(x2, y2)\n",
    "\n"
   ]
  },
  {
   "cell_type": "code",
   "execution_count": 3,
   "metadata": {
    "ExecuteTime": {
     "end_time": "2020-03-01T03:11:01.401193Z",
     "start_time": "2020-03-01T03:11:01.396306Z"
    },
    "code_folding": []
   },
   "outputs": [],
   "source": [
    "# waveguide dispersion sweep parameters\n",
    "\n",
    "Wlist = np.linspace(0.4, 1.0, 25) \n",
    "Hlist = np.linspace(0.2, 0.7, 21) \n",
    "hlist = np.array([0, 0.1, 0.2, 0.3, 0.4, 0.5, 0.6, 0.7])\n",
    "lamList = np.array([1.2, 1.3, 1.4, 1.55, 1.8, 2.0])\n",
    "\n",
    "(Wgrid, Hgrid) = (2, 2)\n",
    "\n",
    "\n",
    "n_points = 32\n",
    "n_bands  = 4\n",
    "res      = 128\n",
    "## old code solving along x\n",
    "# k_points = mp.interpolate(n_points, [mp.Vector3(0.05, 0, 0), mp.Vector3(0.05*n_points, 0, 0)])\n",
    "# lat = mp.Lattice(size=mp.Vector3(0, Wgrid, Hgrid))\n",
    "\n",
    "# new code solving along z\n",
    "k_points = mp.interpolate(n_points, [mp.Vector3(0, 0, 0.05), mp.Vector3(0, 0, 0.05*n_points)])\n",
    "lat = mp.Lattice(size=mp.Vector3(Wgrid, Hgrid, 0))"
   ]
  },
  {
   "cell_type": "code",
   "execution_count": 4,
   "metadata": {
    "ExecuteTime": {
     "end_time": "2020-03-01T03:11:01.543995Z",
     "start_time": "2020-03-01T03:11:01.531326Z"
    },
    "code_folding": [
     0,
     17
    ]
   },
   "outputs": [],
   "source": [
    "def get_intersect(a1, a2, b1, b2):\n",
    "    \"\"\" \n",
    "    Returns the point of intersection of the lines passing through a2,a1 and b2,b1.\n",
    "    a1: [x, y] a point on the first line\n",
    "    a2: [x, y] another point on the first line\n",
    "    b1: [x, y] a point on the second line\n",
    "    b2: [x, y] another point on the second line\n",
    "    \"\"\"\n",
    "    s = np.vstack([a1,a2,b1,b2])        # s for stacked\n",
    "    h = np.hstack((s, np.ones((4, 1)))) # h for homogeneous\n",
    "    l1 = np.cross(h[0], h[1])           # get first line\n",
    "    l2 = np.cross(h[2], h[3])           # get second line\n",
    "    x, y, z = np.cross(l1, l2)          # point of intersection\n",
    "    if z == 0:                          # lines are parallel\n",
    "        return (float('inf'), float('inf'))\n",
    "    return (x/z, y/z)\n",
    "\n",
    "def conformal_verts(obj,t):\n",
    "    \"\"\"\n",
    "    Returns a list of vertices for a \"conformal\" meep Prism object around the meep/mpb geometry\n",
    "    object obj with thickness t\n",
    "    \n",
    "    inputs:\n",
    "    obj:  meep/mpb geometry object\n",
    "    t:    conformal layer thickness in um (float)\n",
    "    \n",
    "    outputs:\n",
    "    conformal_vertices:  list of meep.Vector3 vector objects \n",
    "    \"\"\"\n",
    "    verts = obj.vertices\n",
    "    edges = [verts[ind+1]-verts[ind] for ind in range(len(verts)-1)] + [verts[0]-verts[-1],]\n",
    "    edge_centers = [verts[ind]+edges[ind]/2. for ind in range(len(verts))] \n",
    "    edge_normals = [ mp.Vector3(0,0,1).cross(e).unit() for e in edges ]\n",
    "    ts = [t for v in verts] # * np.ones(len(verts))\n",
    "    for ind in range(len(verts)):\n",
    "        if mp.is_point_in_object(edge_centers[ind] + edge_normals[ind]*0.001, obj):\n",
    "            print(f'reversing edge normal {ind}')\n",
    "            edge_normals[ind] = edge_normals[ind] * -1\n",
    "        if edge_normals[ind][1] < 0:\n",
    "            ts[ind] = 0.\n",
    "    vrts = [(verts[ind]+ts[ind]*edge_normals[ind],verts[ind+1]+ts[ind]*edge_normals[ind]) for ind in range(len(verts)-1)] + [( verts[-1]+ts[-1]*edge_normals[-1], verts[0]+ts[-1]*edge_normals[-1] ),]\n",
    "    conformal_verts_init = [ get_intersect((vrts[ind][0][0],vrts[ind][0][1]),\n",
    "                                      (vrts[ind][1][0],vrts[ind][1][1]),\n",
    "                                      (vrts[ind+1][0][0],vrts[ind+1][0][1]),\n",
    "                                      (vrts[ind+1][1][0],vrts[ind+1][1][1])) for ind in range(len(verts)-1)]\n",
    "    conformal_verts_init += [ get_intersect((vrts[-1][0][0],vrts[-1][0][1]),\n",
    "                                      (vrts[-1][1][0],vrts[-1][1][1]),\n",
    "                                      (vrts[0][0][0],vrts[0][0][1]),\n",
    "                                      (vrts[0][1][0],vrts[0][1][1])), ]\n",
    "    conformal_verts_final = [mp.Vector3(v[0],v[1],0.) for v in conformal_verts_init]\n",
    "    return conformal_verts_final"
   ]
  },
  {
   "cell_type": "markdown",
   "metadata": {},
   "source": [
    "# Single geometry instance"
   ]
  },
  {
   "cell_type": "code",
   "execution_count": 5,
   "metadata": {
    "ExecuteTime": {
     "end_time": "2020-03-01T03:11:04.498026Z",
     "start_time": "2020-03-01T03:11:04.495137Z"
    },
    "code_folding": []
   },
   "outputs": [],
   "source": [
    "# single waveguide instance parameters\n",
    "\n",
    "# define new parameters for angled sidewalls, partial etch, conformal deposited layers after wg etch,\n",
    "\n",
    "θ = 20. #10. # sidewall angle in degrees, 0 = vertical\n",
    "w_top = 0.5 # top width of partially etched \"core layer\" in microns\n",
    "t_core = 0.2 # full thickness of \"core layer\" in microns\n",
    "t_etch = 0.15 # etch depth into \"core layer\" in microns\n",
    "t_ald = .05\n",
    "lam = 0.5 # free space wavelength in microns\n",
    "dx_base = np.tan(np.deg2rad(θ)) * t_etch\n",
    "# W = 0.5\n",
    "# H = 0.2\n",
    "# h = 0.05\n",
    "\n",
    "\n"
   ]
  },
  {
   "cell_type": "code",
   "execution_count": 26,
   "metadata": {
    "ExecuteTime": {
     "end_time": "2020-03-01T03:28:06.114940Z",
     "start_time": "2020-03-01T03:28:06.107328Z"
    }
   },
   "outputs": [],
   "source": [
    "# definite material variables\n",
    "nAlOx = mu.get_index('Alumina', lam)\n",
    "ngAlOx = mu.get_ng('Alumina', lam)\n",
    "nHfO2 = mu.get_index('Hafnia', lam)\n",
    "ngHfO2 = mu.get_ng('Hafnia', lam)\n",
    "nSiO2 = mu.get_index('SiO2', lam)\n",
    "ngSiO2 = mu.get_ng('SiO2', lam)\n",
    "\n",
    "AlOx = mp.Medium(index=nAlOx)\n",
    "HfO2 = mp.Medium(index=nHfO2)\n",
    "SiO2 = mp.Medium(index=nSiO2)\n",
    "Air = mp.Medium(index=1)"
   ]
  },
  {
   "cell_type": "code",
   "execution_count": 16,
   "metadata": {
    "ExecuteTime": {
     "end_time": "2020-03-01T03:24:38.600458Z",
     "start_time": "2020-03-01T03:24:38.589303Z"
    }
   },
   "outputs": [],
   "source": [
    "verts_core = [mp.Vector3(-w_top/2.,t_core),\n",
    "            mp.Vector3(w_top/2.,t_core),\n",
    "            mp.Vector3(w_top/2+dx_base,t_core-t_etch),\n",
    "            mp.Vector3(-w_top/2-dx_base,t_core-t_etch),\n",
    "           ]\n",
    "\n",
    "core = mp.Prism(verts_core, height=mp.inf, material=AlOx)\n",
    "slab = mp.Block(size=mp.Vector3(mp.inf, t_core-t_etch , mp.inf), center=mp.Vector3(0, (t_core-t_etch), 0),material=AlOx)\n",
    "ald_core = mp.Prism(conformal_verts(core,t_ald), height=mp.inf, material=HfO2)\n",
    "ald_slab = mp.Block(size=mp.Vector3(mp.inf, t_ald , mp.inf), center=mp.Vector3(0, (t_core-t_etch+t_ald), 0), material=HfO2)\n",
    "\n",
    "geom = [ald_core,\n",
    "        ald_slab,\n",
    "        core,\n",
    "        slab,\n",
    "       ]\n",
    "\n",
    "\n",
    "\n",
    "#verts_ald = [v + mp.Vector3(0,t_ald,0) for v in verts_core]\n"
   ]
  },
  {
   "cell_type": "code",
   "execution_count": 34,
   "metadata": {
    "ExecuteTime": {
     "end_time": "2020-03-01T03:30:44.844294Z",
     "start_time": "2020-03-01T03:30:44.837818Z"
    }
   },
   "outputs": [
    {
     "data": {
      "text/plain": [
       "True"
      ]
     },
     "execution_count": 34,
     "metadata": {},
     "output_type": "execute_result"
    }
   ],
   "source": [
    "slab.material.epsilon(0)[0,0] == AlOx.epsilon(0)[0,0]"
   ]
  },
  {
   "cell_type": "code",
   "execution_count": 8,
   "metadata": {
    "ExecuteTime": {
     "end_time": "2020-03-01T03:11:15.373079Z",
     "start_time": "2020-03-01T03:11:12.610808Z"
    },
    "code_folding": []
   },
   "outputs": [
    {
     "name": "stdout",
     "output_type": "stream",
     "text": [
      "Working in 2 dimensions.\n",
      "Grid size is 256 x 256 x 1.\n",
      "Solving for 4 bands at a time.\n",
      "Creating Maxwell data...\n",
      "Mesh size is 3.\n",
      "Lattice vectors:\n",
      "     (2, 0, 0)\n",
      "     (0, 2, 0)\n",
      "     (0, 0, 1)\n",
      "Cell volume = 4\n",
      "Reciprocal lattice vectors (/ 2 pi):\n",
      "     (0.5, -0, 0)\n",
      "     (-0, 0.5, -0)\n",
      "     (0, -0, 1)\n",
      "Geometric objects:\n",
      "     prism, center = (0,0.15,5e+19)\n",
      "          height 1e+20, axis (0,0,1), 4 vertices:\n",
      "          (0.28501,0.25,0)\n",
      "          (0.357804,0.05,0)\n",
      "          (-0.357804,0.05,0)\n",
      "          (-0.28501,0.25,0)\n",
      "     block, center = (0,0.1,0)\n",
      "          size (1e+20,0.05,1e+20)\n",
      "          axes (1,0,0), (0,1,0), (0,0,1)\n",
      "     prism, center = (0,0.125,5e+19)\n",
      "          height 1e+20, axis (0,0,1), 4 vertices:\n",
      "          (-0.25,0.2,0)\n",
      "          (0.25,0.2,0)\n",
      "          (0.304596,0.05,0)\n",
      "          (-0.304596,0.05,0)\n",
      "     block, center = (0,0.05,0)\n",
      "          size (1e+20,0.05,1e+20)\n",
      "          axes (1,0,0), (0,1,0), (0,0,1)\n",
      "Geometric object tree has depth 1 and 8 object nodes (vs. 4 actual objects)\n",
      "Initializing epsilon function...\n",
      "Allocating fields...\n",
      "Solving for band polarization: .\n",
      "Initializing fields to random numbers...\n",
      "epsilon: 2.13827-3.4596, mean 2.1979, harm. mean 2.18056, 100% > 1, 4.51279% \"fill\"\n",
      "Initializing fields to random numbers...\n",
      "Initializing eigensolver data\n",
      "Computing 1 bands with 1e-07 tolerance\n",
      "Working in 2 dimensions.\n",
      "Grid size is 256 x 256 x 1.\n",
      "Solving for 1 bands at a time.\n",
      "Creating Maxwell data...\n",
      "Mesh size is 3.\n",
      "Lattice vectors:\n",
      "     (2, 0, 0)\n",
      "     (0, 2, 0)\n",
      "     (0, 0, 1)\n",
      "Cell volume = 4\n",
      "Reciprocal lattice vectors (/ 2 pi):\n",
      "     (0.5, -0, 0)\n",
      "     (-0, 0.5, -0)\n",
      "     (0, -0, 1)\n",
      "Geometric objects:\n",
      "     prism, center = (0,0.15,5e+19)\n",
      "          height 1e+20, axis (0,0,1), 4 vertices:\n",
      "          (0.28501,0.25,0)\n",
      "          (0.357804,0.05,0)\n",
      "          (-0.357804,0.05,0)\n",
      "          (-0.28501,0.25,0)\n",
      "     block, center = (0,0.1,0)\n",
      "          size (1e+20,0.05,1e+20)\n",
      "          axes (1,0,0), (0,1,0), (0,0,1)\n",
      "     prism, center = (0,0.125,5e+19)\n",
      "          height 1e+20, axis (0,0,1), 4 vertices:\n",
      "          (-0.25,0.2,0)\n",
      "          (0.25,0.2,0)\n",
      "          (0.304596,0.05,0)\n",
      "          (-0.304596,0.05,0)\n",
      "     block, center = (0,0.05,0)\n",
      "          size (1e+20,0.05,1e+20)\n",
      "          axes (1,0,0), (0,1,0), (0,0,1)\n",
      "Geometric object tree has depth 1 and 8 object nodes (vs. 4 actual objects)\n",
      "Initializing epsilon function...\n",
      "Allocating fields...\n",
      "Solving for band polarization: .\n",
      "Initializing fields to random numbers...\n",
      "1 k-points\n",
      "  Vector3<0.0, 0.0, 3.1062414650974732>\n",
      "elapsed time for initialization: 0.054697275161743164\n",
      "solve_kpoint (0,0,3.10624):\n",
      "Solving for bands 1 to 1...\n",
      "Finished solving for bands 1 to 1 after 27 iterations.\n",
      "freqs:, 1, 0, 0, 3.10624, 3.10624, 1.97478\n",
      "elapsed time for k point: 1.7091703414916992\n",
      "total elapsed time for run: 1.7640602588653564\n",
      "done\n",
      "find-k 1 at 3.1062414650974732: -0.025221524705008047\n",
      "Initializing eigensolver data\n",
      "Computing 1 bands with 1e-07 tolerance\n",
      "Working in 2 dimensions.\n",
      "Grid size is 256 x 256 x 1.\n",
      "Solving for 1 bands at a time.\n",
      "Creating Maxwell data...\n",
      "Mesh size is 3.\n",
      "Lattice vectors:\n",
      "     (2, 0, 0)\n",
      "     (0, 2, 0)\n",
      "     (0, 0, 1)\n",
      "Cell volume = 4\n",
      "Reciprocal lattice vectors (/ 2 pi):\n",
      "     (0.5, -0, 0)\n",
      "     (-0, 0.5, -0)\n",
      "     (0, -0, 1)\n",
      "Geometric objects:\n",
      "     prism, center = (0,0.15,5e+19)\n",
      "          height 1e+20, axis (0,0,1), 4 vertices:\n",
      "          (0.28501,0.25,0)\n",
      "          (0.357804,0.05,0)\n",
      "          (-0.357804,0.05,0)\n",
      "          (-0.28501,0.25,0)\n",
      "     block, center = (0,0.1,0)\n",
      "          size (1e+20,0.05,1e+20)\n",
      "          axes (1,0,0), (0,1,0), (0,0,1)\n",
      "     prism, center = (0,0.125,5e+19)\n",
      "          height 1e+20, axis (0,0,1), 4 vertices:\n",
      "          (-0.25,0.2,0)\n",
      "          (0.25,0.2,0)\n",
      "          (0.304596,0.05,0)\n",
      "          (-0.304596,0.05,0)\n",
      "     block, center = (0,0.05,0)\n",
      "          size (1e+20,0.05,1e+20)\n",
      "          axes (1,0,0), (0,1,0), (0,0,1)\n",
      "Geometric object tree has depth 1 and 8 object nodes (vs. 4 actual objects)\n",
      "Initializing epsilon function...\n",
      "Solving for band polarization: .\n",
      "1 k-points\n",
      "  Vector3<0.0, 0.0, 3.149074491707399>\n",
      "elapsed time for initialization: 0.07769131660461426\n",
      "solve_kpoint (0,0,3.14907):\n",
      "Solving for bands 1 to 1...\n",
      "Finished solving for bands 1 to 1 after 8 iterations.\n",
      "freqs:, 1, 0, 0, 3.14907, 3.14907, 1.99999\n",
      "elapsed time for k point: 0.5062799453735352\n",
      "total elapsed time for run: 0.5843267440795898\n",
      "done\n",
      "find-k 1 at 3.149074491707399: -1.1673201174344783e-05\n",
      "Initializing eigensolver data\n",
      "Computing 1 bands with 1e-07 tolerance\n",
      "Working in 2 dimensions.\n",
      "Grid size is 256 x 256 x 1.\n",
      "Solving for 1 bands at a time.\n",
      "Creating Maxwell data...\n",
      "Mesh size is 3.\n",
      "Lattice vectors:\n",
      "     (2, 0, 0)\n",
      "     (0, 2, 0)\n",
      "     (0, 0, 1)\n",
      "Cell volume = 4\n",
      "Reciprocal lattice vectors (/ 2 pi):\n",
      "     (0.5, -0, 0)\n",
      "     (-0, 0.5, -0)\n",
      "     (0, -0, 1)\n",
      "Geometric objects:\n",
      "     prism, center = (0,0.15,5e+19)\n",
      "          height 1e+20, axis (0,0,1), 4 vertices:\n",
      "          (0.28501,0.25,0)\n",
      "          (0.357804,0.05,0)\n",
      "          (-0.357804,0.05,0)\n",
      "          (-0.28501,0.25,0)\n",
      "     block, center = (0,0.1,0)\n",
      "          size (1e+20,0.05,1e+20)\n",
      "          axes (1,0,0), (0,1,0), (0,0,1)\n",
      "     prism, center = (0,0.125,5e+19)\n",
      "          height 1e+20, axis (0,0,1), 4 vertices:\n",
      "          (-0.25,0.2,0)\n",
      "          (0.25,0.2,0)\n",
      "          (0.304596,0.05,0)\n",
      "          (-0.304596,0.05,0)\n",
      "     block, center = (0,0.05,0)\n",
      "          size (1e+20,0.05,1e+20)\n",
      "          axes (1,0,0), (0,1,0), (0,0,1)\n",
      "Geometric object tree has depth 1 and 8 object nodes (vs. 4 actual objects)\n",
      "Initializing epsilon function...\n",
      "Solving for band polarization: .\n",
      "1 k-points\n",
      "  Vector3<0.0, 0.0, 3.1490943341587863>\n",
      "elapsed time for initialization: 0.08513045310974121\n",
      "solve_kpoint (0,0,3.14909):\n",
      "Solving for bands 1 to 1...\n",
      "Finished solving for bands 1 to 1 after 1 iterations.\n",
      "freqs:, 1, 0, 0, 3.14909, 3.14909, 2\n",
      "elapsed time for k point: 0.10446977615356445\n",
      "total elapsed time for run: 0.21349835395812988\n",
      "done\n",
      "kvals:, 2.0, 1, 1, 0.0, 0.0, 0.0, 0.0, 0.0, 1.0, 3.1490943341587863\n",
      "TE mode!\n",
      "\n"
     ]
    }
   ],
   "source": [
    "# define hard-coded waveguide mode-solver script for this geometry and run it\n",
    "\n",
    "do_func = None\n",
    "\n",
    "\n",
    "\n",
    "ms = mpb.ModeSolver(geometry_lattice=lat,\n",
    "                    geometry=[],\n",
    "                    k_points=k_points,\n",
    "                    resolution=res,\n",
    "                    num_bands=n_bands,\n",
    "                    default_material=SiO2)\n",
    "\n",
    "ms.geometry = geom\n",
    "ms.default_material = SiO2\n",
    "\n",
    "blackhole = StringIO()\n",
    "with pipes(stdout=blackhole, stderr=STDOUT):\n",
    "    ms.init_params(mp.NO_PARITY, False)\n",
    "    eps = np.array(ms.get_epsilon())\n",
    "isAlOx = (eps - nSiO2 ** 2) / (nAlOx ** 2 - nSiO2 ** 2)\n",
    "\n",
    "out = {}\n",
    "\n",
    "def get_fieldprops(ms, band):\n",
    "    if (out != {}):\n",
    "        return\n",
    "    e = np.array(ms.get_efield(band))\n",
    "    eps_ei2 = eps.reshape(eps.shape+(1,)) * np.abs(e[:, :, 0, :]**2)\n",
    "    ei_pwr = eps_ei2.sum(axis=(0, 1))\n",
    "    if (ei_pwr[1] > ei_pwr[2]):\n",
    "        print (\"TE mode!\\n\")\n",
    "        # Calculate eps |E|^2.  Then get power in the silicon, and distribution along x.\n",
    "        # Get n_g.  Adjust by material disperision factor (n_{g,mat}/n_{mat}), weighted by eps |E|^2 above.\n",
    "        epwr = eps_ei2.sum(-1) / eps_ei2.sum()\n",
    "        pAlOx_x = (epwr * isAlOx).sum(-1)\n",
    "        pAlOx = pAlOx_x.sum()\n",
    "        pAlOx_strip = np.zeros(len(pAlOx_x)) # (pAlOx_x * (np.abs(np.linspace(-Wgrid/2, Wgrid/2, len(pAlOx_x))) <= W/2)).sum()\n",
    "        ng_nodisp = 1 / ms.compute_one_group_velocity_component(mp.Vector3(1, 0, 0), band)\n",
    "        ng = ng_nodisp * (pAlOx * (ngAlOx / nAlOx) + (1 - pAlOx) * (ngSiO2 / nSiO2))\n",
    "\n",
    "        # Output various stuff.\n",
    "        out['band'] = band\n",
    "        out['ng'] = ng\n",
    "        out['pAlOx'] = pAlOx\n",
    "        out['pAlOx_x'] = pAlOx_x #np.array(pSi_x[len(pSi_x)//2:] * 2)\n",
    "        out['pAlOx_strip'] = pAlOx_strip\n",
    "\n",
    "        if (do_func != None):\n",
    "            do_func(out, ms, band)\n",
    "\n",
    "# ModeSolver.find_k(p, omega, band_min, band_max, korig_and_kdir, tol, kmag_guess, kmag_min, kmag_max, *band_func)\n",
    "            \n",
    "with pipes(stdout=blackhole, stderr=STDOUT):\n",
    "    k = ms.find_k(mp.NO_PARITY,\n",
    "                  1/lam,\n",
    "                  1,\n",
    "                  1,\n",
    "                  mp.Vector3(0, 0, 1),\n",
    "                  1e-4,\n",
    "                  (nSiO2+nAlOx)/(2*lam),\n",
    "                  nSiO2/lam,\n",
    "                  nAlOx/lam,\n",
    "                  get_fieldprops)\n",
    "\n",
    "# if (out == {}):\n",
    "#     print (\"TE mode not found.\")\n",
    "#     return out\n",
    "\n",
    "# out['neff'] = k[out['band']-1] / (1 / lam)\n",
    "\n",
    "# print (\"lam = {:.2f}, W = {:.2f}, H = {:.2f}, h = {:.2f}, neff = {:.3f}, ng = {:.3f}, \"\n",
    "#        \"pAlOx = {:.2f}, pStrip = {:.2f}\".format(lam, W, H, h, out['neff'], out['ng'], out['pAlOx'], out['pAlOx_strip']))\n",
    "\n",
    "band = 1\n",
    "e = np.array(ms.get_efield(band))\n",
    "eps_ei2 = eps.reshape(eps.shape+(1,)) * np.abs(e[:, :, 0, :]**2)\n",
    "ei_pwr = eps_ei2.sum(axis=(0, 1))\n",
    "\n",
    "if (ei_pwr[0] > ei_pwr[1]):\n",
    "    print (\"TE mode!\\n\")\n",
    "    # Calculate eps |E|^2.  Then get power in each material, and distribution along x.\n",
    "    # Get n_g.  Adjust by material disperision factor (n_{g,mat}/n_{mat}), weighted by eps |E|^2 above.\n",
    "    epwr = eps_ei2.sum(-1) / eps_ei2.sum()\n",
    "    \n",
    "    pAlOx_x = (epwr * isAlOx).sum(-1)\n",
    "    pAlOx = pAlOx_x.sum()\n",
    "    pAlOx_strip = (pAlOx_x * (np.abs(np.linspace(-Wgrid/2, Wgrid/2, len(pAlOx_x))) <= w_top/2)).sum()\n",
    "    ng_nodisp = 1 / ms.compute_one_group_velocity_component(mp.Vector3(0, 0, 1), band)\n",
    "    ng = ng_nodisp * (pAlOx * (ngAlOx / nAlOx) + (1 - pAlOx) * (ngSiO2 / nSiO2))\n",
    "\n",
    "    # Output various stuff.\n",
    "    out['band'] = band\n",
    "    out['ng'] = ng\n",
    "    out['pAlOx'] = pAlOx\n",
    "    out['pAlOx_x'] = pAlOx_x #np.array(pSi_x[len(pSi_x)//2:] * 2)\n",
    "    out['pAlOx_strip'] = pAlOx_strip"
   ]
  },
  {
   "cell_type": "code",
   "execution_count": 9,
   "metadata": {
    "ExecuteTime": {
     "end_time": "2020-03-01T03:11:20.078949Z",
     "start_time": "2020-03-01T03:11:19.906766Z"
    },
    "code_folding": [
     0
    ]
   },
   "outputs": [
    {
     "data": {
      "text/plain": [
       "(256, 256)"
      ]
     },
     "execution_count": 9,
     "metadata": {},
     "output_type": "execute_result"
    },
    {
     "data": {
      "image/png": "[encoded data removed]",
      "text/plain": [
       "<Figure size 750x450 with 1 Axes>"
      ]
     },
     "metadata": {
      "needs_background": "light"
     },
     "output_type": "display_data"
    }
   ],
   "source": [
    "# prepare spatial coordinate vectors\n",
    "nx = eps.shape[0]\n",
    "ny = eps.shape[1]\n",
    "x = Wgrid * np.linspace(-1/2., 1/2., nx)\n",
    "y = Hgrid * np.linspace(-1/2., 1/2., ny)\n",
    "\n",
    "plt.pcolormesh(x,y,eps.T)\n",
    "ax = plt.gca()\n",
    "ax.set_aspect('equal')\n",
    "eps.shape\n"
   ]
  },
  {
   "cell_type": "code",
   "execution_count": 10,
   "metadata": {
    "ExecuteTime": {
     "end_time": "2020-03-01T03:11:22.434271Z",
     "start_time": "2020-03-01T03:11:21.118651Z"
    },
    "code_folding": [
     0
    ]
   },
   "outputs": [
    {
     "data": {
      "image/png": "[encoded data removed]",
      "text/plain": [
       "<Figure size 1050x750 with 10 Axes>"
      ]
     },
     "metadata": {
      "needs_background": "light"
     },
     "output_type": "display_data"
    }
   ],
   "source": [
    "# plot various computed fields for this instance\n",
    "\n",
    "fig = plt.figure(figsize=(14,10))\n",
    "gs = GridSpec(2,\n",
    "              3,\n",
    "              wspace=0.6,\n",
    "              hspace=0.2,\n",
    "             )\n",
    "\n",
    "ax00 = fig.add_subplot(gs[0,0])\n",
    "ax01 = fig.add_subplot(gs[0,1])\n",
    "ax10 = fig.add_subplot(gs[1,0])\n",
    "ax11 = fig.add_subplot(gs[1,1])\n",
    "ax12 = fig.add_subplot(gs[1,2])\n",
    "\n",
    "\n",
    "# prepare spatial coordinate vectors\n",
    "nx = eps.shape[0]\n",
    "ny = eps.shape[1]\n",
    "x = Wgrid * np.linspace(-1/2., 1/2., nx)\n",
    "y = Hgrid * np.linspace(-1/2., 1/2., ny)\n",
    "\n",
    "# plot index as a function of space\n",
    "p00 = ax00.pcolormesh(x,y,np.sqrt(eps.T),label='index')\n",
    "\n",
    "# plot binary variable detecting core material\n",
    "p01 = ax01.pcolormesh(x,y,isAlOx.T,cmap=cm.Greys,label='isAlOx')\n",
    "\n",
    "# plot Ex, Ey and ϵ|E|^2 \n",
    "vmax = e.real.max()\n",
    "vmin = e.real.min()\n",
    "\n",
    "axind = 1 \n",
    "p10 = ax10.pcolormesh(x,\n",
    "                      y,\n",
    "                      e[:,:,0,axind].T.real,\n",
    "                      cmap=cm.RdBu,\n",
    "                      vmin=vmin,\n",
    "                      vmax=vmax,\n",
    "                     )\n",
    "\n",
    "axind = 0 \n",
    "p11 = ax11.pcolormesh(x,\n",
    "                      y,\n",
    "                      e[:,:,0,axind].T.real,\n",
    "                      cmap=cm.RdBu,\n",
    "                      vmin=vmin,\n",
    "                      vmax=vmax,\n",
    "                     )\n",
    "\n",
    "axind = 1\n",
    "p12 = ax12.pcolormesh(x,y,eps_ei2[:,:,axind].T,cmap=cm.magma)\n",
    "\n",
    "\n",
    "\n",
    "## format and label plots\n",
    "\n",
    "ax = [ax00,ax01,ax10,ax11,ax12]\n",
    "p = [p00,p01,p10,p11,p12]\n",
    "labels = ['index',\n",
    "          'isAlOx',\n",
    "          'E$_{x}$',\n",
    "          'E$_{y}$',\n",
    "          'ϵ|E$_x$|$^2$',\n",
    "         ]\n",
    "\n",
    "\n",
    "\n",
    "\n",
    "for aind,a in enumerate(ax):\n",
    "    a.set_aspect('equal')\n",
    "    a.set_xlabel('x [μm]')\n",
    "    a.set_ylabel('y [μm]')\n",
    "    divider = make_axes_locatable(a)\n",
    "    cax = divider.append_axes(\"top\", size=\"5%\", pad=0.05)\n",
    "    cb = plt.colorbar(p[aind],\n",
    "                 cax=cax,\n",
    "                 orientation=\"horizontal\",\n",
    "                )\n",
    "    cb.set_label(labels[aind])#,labelpad=-1)\n",
    "    cb.ax.xaxis.set_ticks_position('top')\n",
    "    cb.ax.xaxis.set_label_position('top')\n",
    "\n",
    "    \n",
    "# plot pAlOx_x\n",
    "\n",
    "# divider = make_axes_locatable(ax10)\n",
    "# # ax10t = divider.append_axes(\"bottom\", size=\"20%\", pad=0.3)\n",
    "# ax10t = divider.append_axes(\"bottom\", size=1, pad=0.1)\n",
    "# # for just plotting relative shape of pAlOx_x because twinx axis is incompatible with set_aspect\n",
    "# y10t = out['pAlOx_x'] #/ out['pAlOx_x'].max() * y.max() * 0.95\n",
    "# ax10t.plot(x,y10t,'k--')\n",
    "# ax10t.tick_params(axis='y',\n",
    "#                   which='both',\n",
    "#                   left=False,\n",
    "#                   right=False,\n",
    "#                   labelright=False,\n",
    "#                   labelleft=False,\n",
    "#                  )\n",
    "# ax10t.set_ylim(ax10.get_ylim())\n",
    "# ax10.set_aspect('equal')"
   ]
  },
  {
   "cell_type": "code",
   "execution_count": 10,
   "metadata": {},
   "outputs": [
    {
     "data": {
      "text/plain": [
       "dict_keys(['band', 'ng', 'pAlOx', 'pAlOx_x', 'pAlOx_strip', 'neff'])"
      ]
     },
     "execution_count": 10,
     "metadata": {},
     "output_type": "execute_result"
    }
   ],
   "source": [
    "\n"
   ]
  },
  {
   "cell_type": "code",
   "execution_count": 11,
   "metadata": {
    "ExecuteTime": {
     "end_time": "2020-03-01T03:11:26.182592Z",
     "start_time": "2020-03-01T03:11:26.178282Z"
    }
   },
   "outputs": [
    {
     "data": {
      "text/plain": [
       "(256, 256, 1, 3)"
      ]
     },
     "execution_count": 11,
     "metadata": {},
     "output_type": "execute_result"
    }
   ],
   "source": [
    "e.shape"
   ]
  },
  {
   "cell_type": "code",
   "execution_count": 63,
   "metadata": {
    "ExecuteTime": {
     "end_time": "2020-02-27T15:33:56.028226Z",
     "start_time": "2020-02-27T15:33:56.024055Z"
    }
   },
   "outputs": [
    {
     "data": {
      "text/plain": [
       "array([3.40997312e+02, 1.60342614e+04, 9.91153287e+00])"
      ]
     },
     "execution_count": 63,
     "metadata": {},
     "output_type": "execute_result"
    }
   ],
   "source": [
    "#ei_pwr = eps_ei2.sum(axis=(0, 1))\n",
    "ei_pwr"
   ]
  },
  {
   "cell_type": "code",
   "execution_count": 23,
   "metadata": {},
   "outputs": [
    {
     "data": {
      "text/plain": [
       "[<matplotlib.lines.Line2D at 0x7f87b4174150>]"
      ]
     },
     "execution_count": 23,
     "metadata": {},
     "output_type": "execute_result"
    },
    {
     "data": {
      "image/png": "[encoded data removed]",
      "text/plain": [
       "<Figure size 750x450 with 1 Axes>"
      ]
     },
     "metadata": {
      "needs_background": "light"
     },
     "output_type": "display_data"
    }
   ],
   "source": [
    "plt.plot(x,out['pAlOx_x'],'.-')"
   ]
  },
  {
   "cell_type": "code",
   "execution_count": 71,
   "metadata": {
    "ExecuteTime": {
     "end_time": "2020-02-27T15:42:48.259710Z",
     "start_time": "2020-02-27T15:42:48.116839Z"
    }
   },
   "outputs": [
    {
     "data": {
      "text/plain": [
       "(256, 256)"
      ]
     },
     "execution_count": 71,
     "metadata": {},
     "output_type": "execute_result"
    },
    {
     "data": {
      "image/png": "[encoded data removed]",
      "text/plain": [
       "<Figure size 750x450 with 1 Axes>"
      ]
     },
     "metadata": {
      "needs_background": "light"
     },
     "output_type": "display_data"
    }
   ],
   "source": []
  },
  {
   "cell_type": "code",
   "execution_count": 30,
   "metadata": {},
   "outputs": [
    {
     "data": {
      "text/plain": [
       "(256, 256, 3)"
      ]
     },
     "execution_count": 30,
     "metadata": {},
     "output_type": "execute_result"
    }
   ],
   "source": [
    "eps_ei2.shape"
   ]
  },
  {
   "cell_type": "code",
   "execution_count": null,
   "metadata": {},
   "outputs": [],
   "source": []
  },
  {
   "cell_type": "markdown",
   "metadata": {},
   "source": [
    "# Bulk dispersion"
   ]
  },
  {
   "cell_type": "code",
   "execution_count": null,
   "metadata": {},
   "outputs": [],
   "source": []
  },
  {
   "cell_type": "code",
   "execution_count": null,
   "metadata": {},
   "outputs": [],
   "source": []
  }
 ],
 "metadata": {
  "kernelspec": {
   "display_name": "Python 3 (MEEP/MPB)",
   "language": "python",
   "name": "mp"
  },
  "language_info": {
   "codemirror_mode": {
    "name": "ipython",
    "version": 3
   },
   "file_extension": ".py",
   "mimetype": "text/x-python",
   "name": "python",
   "nbconvert_exporter": "python",
   "pygments_lexer": "ipython3",
   "version": "3.7.6"
  }
 },
 "nbformat": 4,
 "nbformat_minor": 4
}
